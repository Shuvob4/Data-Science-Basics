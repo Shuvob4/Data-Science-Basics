{
 "cells": [
  {
   "cell_type": "markdown",
   "id": "ee51c8bb",
   "metadata": {},
   "source": [
    "# NumPy\n",
    "\n",
    "## What is NumPy ?\n",
    "\n",
    " * It's a python library used for working with arrays.\n",
    " * Has functions for working in domain of linear algebra, fourier transform, and matrices.\n",
    " * Stands for Numerical Python\n",
    " \n",
    "## Why Use NumPy ?\n",
    " \n",
    " * In python we have list which works as array but that is slow to process\n",
    " * NumPy aims to provide array which is 50X times faster than traditional python list.\n",
    " \n",
    " \n",
    "## Why NumPy is faster than Python List ?\n",
    "\n",
    " 1. NumPy arrays are stored at one continuous place in memory unlike lists, so processes can access and manipulate them very efficiently. This behavior is called locality of reference in computer science.\n",
    "\n",
    "\n",
    "### To import NumPy:\n",
    "    \n",
    "   **import numpy as np**\n",
    "    \n",
    "### NumPy Array\n",
    "\n",
    "    NumPy is used to work with arrays. The array object in NumPy is called ndarray.\n",
    "    We can create a NumPy ndarray object by using the array() function"
   ]
  },
  {
   "cell_type": "markdown",
   "id": "1444eb9b",
   "metadata": {},
   "source": [
    "## Data types in NumPy\n",
    "\n",
    "\n",
    "Below is a list of all data types in NumPy and the characters used to represent them.\n",
    "\n",
    "* **i** - integer\n",
    "* **b** - boolean\n",
    "* **u** - unsigned integer\n",
    "* **f** - float\n",
    "* **c** - complex float\n",
    "* **m** - timedelta\n",
    "* **M** - datetime\n",
    "* **O** - object\n",
    "* **S** - string\n",
    "* **U** - unicode string\n",
    "* **V** - fixed chunk of memory for other type ( void )\n",
    "\n",
    "To check the data type of NumPy use dtype."
   ]
  },
  {
   "cell_type": "code",
   "execution_count": 2,
   "id": "79f016cc",
   "metadata": {},
   "outputs": [
    {
     "name": "stdout",
     "output_type": "stream",
     "text": [
      "[1 2 3 4 5]\n"
     ]
    }
   ],
   "source": [
    "import numpy as np\n",
    "\n",
    "arr = np.array([1,2,3,4,5])\n",
    "print(arr)"
   ]
  },
  {
   "cell_type": "markdown",
   "id": "e1470342",
   "metadata": {},
   "source": [
    "## Dimensions in Array\n",
    "\n",
    "\n",
    "* 1-D (shape(x,)) x= row (axis 0)\n",
    "* 2-D (shape(x,y)) x = row (axis 0), y = column (axis 1)\n",
    "* 3-D (shape (x,y,z)) x = axis 0, y = axis 1, z = axis 3\n",
    "\n",
    "The number of dimension is the rank of the array."
   ]
  },
  {
   "cell_type": "code",
   "execution_count": 8,
   "id": "91184b35",
   "metadata": {},
   "outputs": [
    {
     "name": "stdout",
     "output_type": "stream",
     "text": [
      "[1 2 3]\n",
      "Rank of the d_1_arr is 1\n",
      "---------------\n",
      "[[1 2 3]\n",
      " [4 5 6]]\n",
      "Rank of the d_2_arr is 2\n",
      "----------------\n",
      "[[[1 2 3]\n",
      "  [4 5 6]]\n",
      "\n",
      " [[1 2 3]\n",
      "  [4 5 6]]]\n",
      "Rank of the d_3_arr is 3\n"
     ]
    }
   ],
   "source": [
    "d_1_arr = np.array([1,2,3])\n",
    "print(d_1_arr)\n",
    "print(f'Rank of the d_1_arr is {d_1_arr.ndim}')\n",
    "\n",
    "print('---------------')\n",
    "\n",
    "d_2_arr = np.array([[1,2,3],[4,5,6]])\n",
    "print(d_2_arr)\n",
    "print(f'Rank of the d_2_arr is {d_2_arr.ndim}')\n",
    "\n",
    "print('----------------')\n",
    "\n",
    "d_3_arr = np.array([[[1, 2, 3], [4, 5, 6]], [[1, 2, 3], [4, 5, 6]]])\n",
    "print(d_3_arr)\n",
    "print(f'Rank of the d_3_arr is {d_3_arr.ndim}')"
   ]
  },
  {
   "cell_type": "code",
   "execution_count": 9,
   "id": "94f04706",
   "metadata": {},
   "outputs": [
    {
     "name": "stdout",
     "output_type": "stream",
     "text": [
      "[[[[[1 2 3 4 5]]]]]\n",
      "Rank of higher_dimensional_arr is 5\n"
     ]
    }
   ],
   "source": [
    "higher_dimensional_arr = np.array([1,2,3,4,5], ndmin=5)\n",
    "print(higher_dimensional_arr)\n",
    "print(f'Rank of higher_dimensional_arr is {higher_dimensional_arr.ndim}')"
   ]
  },
  {
   "cell_type": "markdown",
   "id": "a1eff2e3",
   "metadata": {},
   "source": [
    "## Array Indexing\n",
    "\n",
    "Array indexing is the same as accessing an array element.You can access an array element by referring to its index number.\n",
    "\n",
    "### Access 1-D Array Elements"
   ]
  },
  {
   "cell_type": "code",
   "execution_count": 10,
   "id": "d484e603",
   "metadata": {},
   "outputs": [
    {
     "name": "stdout",
     "output_type": "stream",
     "text": [
      "1-D array : [1 2 3]\n",
      "2nd Element of the d_1_arr is 2\n"
     ]
    }
   ],
   "source": [
    "print(f'1-D array : {d_1_arr}')\n",
    "print(f'2nd Element of the d_1_arr is : {d_1_arr[1]}')"
   ]
  },
  {
   "cell_type": "markdown",
   "id": "ef6f4e5d",
   "metadata": {},
   "source": [
    "### Access 2-D Arrays:\n",
    "\n",
    "To access elements from 2-D arrays we can use comma separated integers representing the dimension and the index of the element. 2-D arrays like a table with rows and columns, where the row represents the dimension and the index represents the column."
   ]
  },
  {
   "cell_type": "code",
   "execution_count": 14,
   "id": "b3410cd4",
   "metadata": {},
   "outputs": [
    {
     "name": "stdout",
     "output_type": "stream",
     "text": [
      "2-D array : [[1 2 3]\n",
      " [4 5 6]]\n",
      "2nd Element of the 1st row is : 2\n"
     ]
    }
   ],
   "source": [
    "print(f'2-D array : {d_2_arr}')\n",
    "print(f'2nd Element of the 1st row is : {d_2_arr[0,1]}')"
   ]
  },
  {
   "cell_type": "markdown",
   "id": "bc247f5f",
   "metadata": {},
   "source": [
    "### Access 3-D Arrays:\n",
    "\n",
    "To access elements from 3-D arrays we can use comma separated integers representing the dimensions and the index of the element."
   ]
  },
  {
   "cell_type": "code",
   "execution_count": 15,
   "id": "ab231c74",
   "metadata": {},
   "outputs": [
    {
     "name": "stdout",
     "output_type": "stream",
     "text": [
      "6\n"
     ]
    }
   ],
   "source": [
    "arr = np.array([[[1, 2, 3], [4, 5, 6]], [[7, 8, 9], [10, 11, 12]]])\n",
    "print(arr[0, 1, 2])"
   ]
  },
  {
   "cell_type": "markdown",
   "id": "1402dcb1",
   "metadata": {},
   "source": [
    "## Explanation of Accessing the element of 3-D Array\n",
    "\n",
    "arr[0, 1, 2] prints the value 6.\n",
    "\n",
    "And this is why:\n",
    "\n",
    "The first number represents the first dimension, which contains two arrays:\n",
    "[[1, 2, 3], [4, 5, 6]]\n",
    "and:\n",
    "[[7, 8, 9], [10, 11, 12]]\n",
    "Since we selected 0, we are left with the first array:\n",
    "[[1, 2, 3], [4, 5, 6]]\n",
    "\n",
    "The second number represents the second dimension, which also contains two arrays:\n",
    "[1, 2, 3]\n",
    "and:\n",
    "[4, 5, 6]\n",
    "Since we selected 1, we are left with the second array:\n",
    "[4, 5, 6]\n",
    "\n",
    "The third number represents the third dimension, which contains three values:\n",
    "4\n",
    "5\n",
    "6\n",
    "Since we selected 2, we end up with the third value:\n",
    "6"
   ]
  },
  {
   "cell_type": "markdown",
   "id": "a5a429a1",
   "metadata": {},
   "source": [
    "## Negative Indexing\n",
    "\n",
    "Use negative indexing to access an array from the end."
   ]
  },
  {
   "cell_type": "code",
   "execution_count": 21,
   "id": "41855b17",
   "metadata": {},
   "outputs": [
    {
     "name": "stdout",
     "output_type": "stream",
     "text": [
      "2-D array : [[1 2 3]\n",
      " [4 5 6]]\n",
      "Last element of the array is : 6\n"
     ]
    }
   ],
   "source": [
    "print(f'2-D array : {d_2_arr}')\n",
    "print(f'Last element of the array is : {d_2_arr[1,-1]}')"
   ]
  },
  {
   "cell_type": "markdown",
   "id": "7197dc93",
   "metadata": {},
   "source": [
    "## NumPy Array Slicing\n",
    "\n",
    "Slicing in python means taking elements from one given index to another given index.\n",
    "\n",
    "We pass slice instead of index like this: **[start:end]**\n",
    "\n",
    "We can also define the step, like this: **[start:end:step]**\n",
    "\n",
    "If we don't pass start its considered 0\n",
    "\n",
    "If we don't pass end its considered length of array in that dimension\n",
    "\n",
    "If we don't pass step its considered 1"
   ]
  },
  {
   "cell_type": "code",
   "execution_count": 23,
   "id": "13854d94",
   "metadata": {},
   "outputs": [
    {
     "name": "stdout",
     "output_type": "stream",
     "text": [
      "Original Array is : [0 1 2 3 4 5 6 7 8 9]\n",
      "Sliced Array : [1 3 5 7]\n"
     ]
    }
   ],
   "source": [
    "d_1_array = np.array([0,1,2,3,4,5,6,7,8,9])\n",
    "print(f'Original Array is : {d_1_array}')\n",
    "print(f'Sliced Array : {d_1_array[1:8:2]}')"
   ]
  },
  {
   "cell_type": "markdown",
   "id": "82a2b552",
   "metadata": {},
   "source": [
    "## Slicing through a 2-D Array"
   ]
  },
  {
   "cell_type": "code",
   "execution_count": 25,
   "id": "400ff92d",
   "metadata": {},
   "outputs": [
    {
     "name": "stdout",
     "output_type": "stream",
     "text": [
      "Original Array is : [[ 1  2  3  4  5]\n",
      " [ 6  7  8  9 10]]\n",
      "Sliced Array : [7 8 9]\n"
     ]
    }
   ],
   "source": [
    "d_2_array = np.array([[1, 2, 3, 4, 5], [6, 7, 8, 9, 10]])\n",
    "print(f'Original Array is : {d_2_array}')\n",
    "print(f'Sliced Array : {d_2_array[1,1:4]}')"
   ]
  },
  {
   "cell_type": "code",
   "execution_count": 27,
   "id": "f6de10a8",
   "metadata": {},
   "outputs": [
    {
     "name": "stdout",
     "output_type": "stream",
     "text": [
      "[3 8]\n"
     ]
    }
   ],
   "source": [
    "# From both array return the 2nd element\n",
    "print(d_2_array[0:,2])"
   ]
  },
  {
   "cell_type": "code",
   "execution_count": 28,
   "id": "144ff001",
   "metadata": {},
   "outputs": [
    {
     "name": "stdout",
     "output_type": "stream",
     "text": [
      "[[2 3 4]\n",
      " [7 8 9]]\n"
     ]
    }
   ],
   "source": [
    "# From both elements, slice index 1 to index 4 (not included), this will return a 2-D array\n",
    "print(d_2_array[0:,1:4])"
   ]
  },
  {
   "cell_type": "markdown",
   "id": "9594a8cd",
   "metadata": {},
   "source": [
    "## Negative Slicing\n",
    "\n",
    "minus operator to refer to an index from the end"
   ]
  },
  {
   "cell_type": "code",
   "execution_count": 29,
   "id": "cec1d8cf",
   "metadata": {},
   "outputs": [
    {
     "name": "stdout",
     "output_type": "stream",
     "text": [
      "[7 8]\n"
     ]
    }
   ],
   "source": [
    "#Slice from the index 3 from the end to index 1 from the end\n",
    "print(d_1_array[-3:-1])"
   ]
  },
  {
   "cell_type": "markdown",
   "id": "ed0b704c",
   "metadata": {},
   "source": [
    "### Boolean Slicing\n",
    "we can use Boolean slicing to select elements of a numpy array."
   ]
  },
  {
   "cell_type": "code",
   "execution_count": 22,
   "id": "63610bbe",
   "metadata": {},
   "outputs": [
    {
     "name": "stdout",
     "output_type": "stream",
     "text": [
      "arr[arr > 2] = [3 4 5 6 7 8]\n"
     ]
    }
   ],
   "source": [
    "arr = np.array([1,2,3,4,5,6,7,8])\n",
    "print(f'arr[arr > 2] = {arr[arr > 2]}')"
   ]
  },
  {
   "cell_type": "markdown",
   "id": "9d06e149",
   "metadata": {},
   "source": [
    "## NumPy Array Copy vs View\n",
    "\n",
    "The main difference between a copy and a view of an array is that the copy is a new array, and the view is just a view of the original array.\n",
    "\n",
    "The copy owns the data and any changes made to the copy will not affect original array, and any changes made to the original array will not affect the copy.\n",
    "\n",
    "The view does not own the data and any changes made to the view will affect the original array, and any changes made to the original array will affect the view."
   ]
  },
  {
   "cell_type": "code",
   "execution_count": 30,
   "id": "bd370308",
   "metadata": {},
   "outputs": [
    {
     "name": "stdout",
     "output_type": "stream",
     "text": [
      "Before : \n",
      "\n",
      "Original Array C:  [1 2 3 4 5 6]\n",
      "Original Array V:  [11 12 13 14 15 16]\n",
      "Copied Array :  [1 2 3 4 5 6]\n",
      "Viewed Array :  [11 12 13 14 15 16]\n",
      "After : \n",
      "\n",
      "Original Array :  [1 2 3 4 5 6]\n",
      "Original Array V:  [11 12 13 14 15  0]\n",
      "Copied Array :  [ 1  2 44  4  5  6]\n",
      "Viewed Array :  [11 12 13 14 15  0]\n"
     ]
    }
   ],
   "source": [
    "array_one = np.array([1,2,3,4,5,6])\n",
    "array_two = np.array([11,12,13,14,15,16])\n",
    "\n",
    "arr_copy = array_one.copy()\n",
    "arr_view = array_two.view()\n",
    "\n",
    "print('Before : \\n')\n",
    "print('Original Array C: ',array_one)\n",
    "print('Original Array V: ',array_two)\n",
    "print('Copied Array : ',arr_copy)\n",
    "print('Viewed Array : ',arr_view)\n",
    "\n",
    "\n",
    "arr_copy[2] = 44\n",
    "arr_view[5] = 0\n",
    "\n",
    "print('After : \\n')\n",
    "print('Original Array : ',array_one)\n",
    "print('Original Array V: ',array_two)\n",
    "print('Copied Array : ',arr_copy)\n",
    "print('Viewed Array : ',arr_view)"
   ]
  },
  {
   "cell_type": "markdown",
   "id": "aae921f2",
   "metadata": {},
   "source": [
    "## Shape of the Array\n",
    "\n",
    "The shape of an array is the number of elements in each dimension. NumPy arrays have an attribute called *shape* that returns a tuple with each index having the number of corresponding elemen"
   ]
  },
  {
   "cell_type": "code",
   "execution_count": 35,
   "id": "fa9afd57",
   "metadata": {},
   "outputs": [
    {
     "name": "stdout",
     "output_type": "stream",
     "text": [
      "Shape of the 1-D array is : (3,)\n",
      "Shape of the 2-D array is : (2, 4)\n",
      "Shape of the 3-D array is : (2, 2, 3)\n"
     ]
    }
   ],
   "source": [
    "np_array_one = np.array([1,2,3])\n",
    "np_array_two = np.array([[1,2,3,4],[5,6,7,8]])\n",
    "np_array_three = np.array([[[1,2,3],[4,5,6]],[[11,12,13],[14,15,16]]])\n",
    "print(f'Shape of the 1-D array is : {np_array_one.shape}')\n",
    "print(f'Shape of the 2-D array is : {np_array_two.shape}')\n",
    "print(f'Shape of the 3-D array is : {np_array_three.shape}')"
   ]
  },
  {
   "cell_type": "markdown",
   "id": "349890e8",
   "metadata": {},
   "source": [
    "### Shape Description:\n",
    "\n",
    "#### 1-D Array:\n",
    "1-D arrays can be described simply by the number of values they contain. The shape of the array above would be simply described as 3. This array can also be though of as having one row and 3 columns.\n",
    "\n",
    "#### 2-D Array:\n",
    "NumPy describes 2-D arrays by first listing the number of rows then the number columns. \n",
    "**The rows of 2-D array must all contain the same number of columns.**\n",
    "\n",
    "\n",
    "#### 3-D Array:\n",
    "The dimensions of a 3-D array are described by the number of layers the array contains, and the number of rows and columns in each layer. NumPy reports the shape of 3-D arrays in the order layers, rows, columns.\n",
    "**All layers must have the same number of rows and columns.**"
   ]
  },
  {
   "cell_type": "markdown",
   "id": "311d4a02",
   "metadata": {},
   "source": [
    "## NumPy Array Reshape\n",
    "\n",
    "Reshaping means changing the shape of an array.\n",
    "The shape of an array is the number of elements in each dimension.\n",
    "By reshaping we can add or remove dimensions or change number of elements in each dimension."
   ]
  },
  {
   "cell_type": "code",
   "execution_count": 5,
   "id": "29058365",
   "metadata": {},
   "outputs": [
    {
     "name": "stdout",
     "output_type": "stream",
     "text": [
      "Original array before reshaping : [1 2 3 4 5 6 7 8] \n",
      "\n",
      "Array After Reshape : [[1 2 3 4]\n",
      " [5 6 7 8]]\n"
     ]
    }
   ],
   "source": [
    "# Converting 1-D Array to 2-D Array\n",
    "\n",
    "array = np.array([1,2,3,4,5,6,7,8])\n",
    "new_arr = array.reshape(2,4)\n",
    "print(f'Original array before reshaping : {array} \\n\\nArray After Reshape : {new_arr}')"
   ]
  },
  {
   "cell_type": "code",
   "execution_count": 8,
   "id": "442352b3",
   "metadata": {},
   "outputs": [
    {
     "name": "stdout",
     "output_type": "stream",
     "text": [
      "Original array before reshaping : [1 2 3 4 5 6 7 8] \n",
      "\n",
      "Array After Reshape : [[[1 2]\n",
      "  [3 4]]\n",
      "\n",
      " [[5 6]\n",
      "  [7 8]]]\n"
     ]
    }
   ],
   "source": [
    "# Convert 1-D Array to 3-D Array\n",
    "arr = np.array([1,2,3,4,5,6,7,8])\n",
    "new_arr = arr.reshape(2,2,2)\n",
    "print(f'Original array before reshaping : {arr} \\n\\nArray After Reshape : {new_arr}')"
   ]
  },
  {
   "cell_type": "markdown",
   "id": "5150dd11",
   "metadata": {},
   "source": [
    "### Can We Reshape Into any Shape?\n",
    "Yes, as long as the elements required for reshaping are equal in both shapes.\n",
    "\n",
    "We can reshape an 8 elements 1D array into 4 elements in 2 rows 2D array but we cannot reshape it into a 3 elements 3 rows 2D array as that would require 3x3 = 9 elements.\n",
    "\n",
    "### Unknown Dimension\n",
    "You are allowed to have one \"unknown\" dimension.\n",
    "\n",
    "Meaning that you do not have to specify an exact number for one of the dimensions in the reshape method. Pass -1 as the value, and NumPy will calculate this number for you.\n",
    "\n",
    "**We Cannot Pass -1 for more than 1 Dimension**"
   ]
  },
  {
   "cell_type": "code",
   "execution_count": 9,
   "id": "b2c5707a",
   "metadata": {},
   "outputs": [
    {
     "name": "stdout",
     "output_type": "stream",
     "text": [
      "[[[1 2]\n",
      "  [3 4]]\n",
      "\n",
      " [[5 6]\n",
      "  [7 8]]]\n"
     ]
    }
   ],
   "source": [
    "arr = np.array([1, 2, 3, 4, 5, 6, 7, 8])\n",
    "\n",
    "newarr = arr.reshape(2, 2, -1)\n",
    "\n",
    "print(newarr)"
   ]
  },
  {
   "cell_type": "markdown",
   "id": "098bc3d1",
   "metadata": {},
   "source": [
    "### Flattening the arrays\n",
    "Flattening array means converting a multidimensional array into a 1D array.\n",
    "\n",
    "We can use reshape(-1) to do this."
   ]
  },
  {
   "cell_type": "code",
   "execution_count": 10,
   "id": "ef8596f6",
   "metadata": {},
   "outputs": [
    {
     "name": "stdout",
     "output_type": "stream",
     "text": [
      "[1 2 3 4 5 6]\n"
     ]
    }
   ],
   "source": [
    "arr = np.array([[1, 2, 3], [4, 5, 6]])\n",
    "\n",
    "newarr = arr.reshape(-1)\n",
    "\n",
    "print(newarr)"
   ]
  },
  {
   "cell_type": "markdown",
   "id": "85fd1680",
   "metadata": {},
   "source": [
    "### NumPy Array Iteration"
   ]
  },
  {
   "cell_type": "code",
   "execution_count": 18,
   "id": "9d3fc3c5",
   "metadata": {},
   "outputs": [
    {
     "name": "stdout",
     "output_type": "stream",
     "text": [
      "Original Array : [1 2 3 4 5 6]\n",
      "Iterating through 1-D array : \n",
      "1\n",
      "2\n",
      "3\n",
      "4\n",
      "5\n",
      "6\n",
      "\n",
      "Original Array : [[1 2 3 4]\n",
      " [5 6 7 8]]\n",
      "Iterating through 2-D array Row Wise: \n",
      "[1 2 3 4]\n",
      "[5 6 7 8]\n",
      "\n",
      "Original Array : [[1 2 3 4]\n",
      " [5 6 7 8]]\n",
      "Iterating through 2-D array Element Wise: \n",
      "1\n",
      "2\n",
      "3\n",
      "4\n",
      "5\n",
      "6\n",
      "7\n",
      "8\n",
      "\n",
      "Original Array : [[[ 1  2  3  4]\n",
      "  [ 5  6  7  8]]\n",
      "\n",
      " [[11 12 13 14]\n",
      "  [15 16 17 18]]]\n",
      "Iterating through 3-D array Row Wise: \n",
      "[[1 2 3 4]\n",
      " [5 6 7 8]]\n",
      "[[11 12 13 14]\n",
      " [15 16 17 18]]\n",
      "\n",
      "Original Array : [[[ 1  2  3  4]\n",
      "  [ 5  6  7  8]]\n",
      "\n",
      " [[11 12 13 14]\n",
      "  [15 16 17 18]]]\n",
      "Iterating through 3-D array Element Wise: \n",
      "1\n",
      "2\n",
      "3\n",
      "4\n",
      "5\n",
      "6\n",
      "7\n",
      "8\n",
      "11\n",
      "12\n",
      "13\n",
      "14\n",
      "15\n",
      "16\n",
      "17\n",
      "18\n"
     ]
    }
   ],
   "source": [
    "# Iterating through 1-D Array\n",
    "arr_one = np.array([1,2,3,4,5,6])\n",
    "print(f'Original Array : {arr_one}\\nIterating through 1-D array : ')\n",
    "for x in arr_one:\n",
    "    print(x)\n",
    "\n",
    "#Iterating through Rows\n",
    "arr_two = np.array([[1,2,3,4],[5,6,7,8]])\n",
    "print(f'\\nOriginal Array : {arr_two}\\nIterating through 2-D array Row Wise: ')\n",
    "for x in arr_two:\n",
    "    print(x)\n",
    "    \n",
    "#Iterating by each element\n",
    "print(f'\\nOriginal Array : {arr_two}\\nIterating through 2-D array Element Wise: ')\n",
    "for x in arr_two:\n",
    "    for y in x:\n",
    "        print(y)\n",
    "        \n",
    "#Iterating through Rows\n",
    "arr_three = np.array([[[1,2,3,4],[5,6,7,8]],[[11,12,13,14],[15,16,17,18]]])\n",
    "print(f'\\nOriginal Array : {arr_three}\\nIterating through 3-D array Row Wise: ')\n",
    "for x in arr_three:\n",
    "    print(x)\n",
    "    \n",
    "#Iterating by each element\n",
    "print(f'\\nOriginal Array : {arr_three}\\nIterating through 3-D array Element Wise: ')\n",
    "for x in arr_three:\n",
    "    for y in x:\n",
    "        for z in y:\n",
    "            print(z)"
   ]
  },
  {
   "cell_type": "markdown",
   "id": "39e7fc45",
   "metadata": {},
   "source": [
    "### Iterating Arrays Using nditer()\n",
    "The function nditer() is a helping function that can be used from very basic to very advanced iterations. It solves some basic issues which we face in iteration.\n",
    "\n",
    "### Iterating on Each Scalar Element\n",
    "In basic for loops, iterating through each scalar of an array we need to use n for loops which can be difficult to write for arrays with very high dimensionality."
   ]
  },
  {
   "cell_type": "code",
   "execution_count": 19,
   "id": "559bc8eb",
   "metadata": {},
   "outputs": [
    {
     "name": "stdout",
     "output_type": "stream",
     "text": [
      "\n",
      "Original Array : [[[ 1  2  3  4]\n",
      "  [ 5  6  7  8]]\n",
      "\n",
      " [[11 12 13 14]\n",
      "  [15 16 17 18]]]\n",
      "Iterating through 3-D array Element Wise: \n",
      "1\n",
      "2\n",
      "3\n",
      "4\n",
      "5\n",
      "6\n",
      "7\n",
      "8\n",
      "11\n",
      "12\n",
      "13\n",
      "14\n",
      "15\n",
      "16\n",
      "17\n",
      "18\n"
     ]
    }
   ],
   "source": [
    "arr_three = np.array([[[1,2,3,4],[5,6,7,8]],[[11,12,13,14],[15,16,17,18]]])\n",
    "print(f'\\nOriginal Array : {arr_three}\\nIterating through 3-D array Element Wise: ')\n",
    "for x in np.nditer(arr_three):\n",
    "  print(x)"
   ]
  },
  {
   "cell_type": "markdown",
   "id": "13c27e6c",
   "metadata": {},
   "source": [
    "### Iterating With Different Step Size\n",
    "We can use filtering and followed by iteration."
   ]
  },
  {
   "cell_type": "code",
   "execution_count": 21,
   "id": "a0c8e841",
   "metadata": {},
   "outputs": [
    {
     "name": "stdout",
     "output_type": "stream",
     "text": [
      "1\n",
      "4\n",
      "5\n",
      "8\n"
     ]
    }
   ],
   "source": [
    "arr = np.array([[1, 2, 3, 4], [5, 6, 7, 8]])\n",
    "\n",
    "for x in np.nditer(arr[:, ::3]):\n",
    "  print(x)"
   ]
  },
  {
   "cell_type": "markdown",
   "id": "580c9a21",
   "metadata": {},
   "source": [
    "### NumPy Array Creation Function\n",
    "\n",
    "#### arange\n",
    "This function creates an array within a range with regularly incrementing values."
   ]
  },
  {
   "cell_type": "code",
   "execution_count": 25,
   "id": "7378fe24",
   "metadata": {},
   "outputs": [
    {
     "name": "stdout",
     "output_type": "stream",
     "text": [
      "a = [0 1 2 3 4 5 6 7 8 9]\n",
      "b = [2. 3. 4. 5. 6. 7. 8. 9.]\n",
      "c = [2.  2.1 2.2 2.3 2.4 2.5 2.6 2.7 2.8 2.9]\n"
     ]
    }
   ],
   "source": [
    "a = np.arange(10) #if one argument is passed it will be considered as the stop value\n",
    "print(f'a = {a}')\n",
    "b = np.arange(2, 10, dtype=float) #with two arguments, the first is the start value and the second is the stop value which is excluded\n",
    "print(f'b = {b}')\n",
    "c = np.arange(2, 3, 0.1) #if a third parameter is passed, the value will be used as the increment\n",
    "print(f'c = {c}')"
   ]
  },
  {
   "cell_type": "markdown",
   "id": "d88fb56a",
   "metadata": {},
   "source": [
    "#### linspace\n",
    "This function will create arrays with a specified number of elements, and spaced equally between the specified beginning and end values."
   ]
  },
  {
   "cell_type": "code",
   "execution_count": 26,
   "id": "4e14dd53",
   "metadata": {},
   "outputs": [
    {
     "name": "stdout",
     "output_type": "stream",
     "text": [
      "d = [0. 1. 2. 3. 4. 5. 6. 7. 8. 9.]\n",
      "e = [1.  1.5 2.  2.5 3.  3.5 4. ]\n"
     ]
    }
   ],
   "source": [
    "d = np.linspace(0, 9, 10) #the third is the number of elements to be created, including stop position\n",
    "print(f'd = {d}')\n",
    "e = np.linspace(1., 4., 7) \n",
    "print(f'e = {e}')"
   ]
  },
  {
   "cell_type": "markdown",
   "id": "fcad8ace",
   "metadata": {},
   "source": [
    "The following creation functions define arrays based on the desired shape. These functions can create arrays with any dimension by specifying how many dimensions and length along that dimension in a tuple or list.\n",
    "\n",
    "#### zeros\n",
    "Creates an array with the desired shape with all elements equal to 0.\n",
    "\n",
    "#### ones\n",
    "Creates an array with the desired shape with all elements equal to 1.\n",
    "\n",
    "#### full\n",
    "Creates an array with the desired shape with all elements equal to a specified value.\n",
    "\n",
    "#### random\n",
    "Creates an array with the desired shape with all elements with random numbers."
   ]
  },
  {
   "cell_type": "code",
   "execution_count": 28,
   "id": "717fb655",
   "metadata": {},
   "outputs": [
    {
     "name": "stdout",
     "output_type": "stream",
     "text": [
      "a = [[0. 0.]\n",
      " [0. 0.]]\n",
      "b = [1. 1. 1. 1. 1.]\n",
      "c = [[7 7]\n",
      " [7 7]\n",
      " [7 7]]\n",
      "d = [[0.17094029 0.96808926 0.70593005]\n",
      " [0.1014458  0.42823093 0.90327854]]\n"
     ]
    }
   ],
   "source": [
    "a = np.zeros((2, 2))   \n",
    "print(f'a = {a}')\n",
    "                      \n",
    "b = np.ones((5, ))    \n",
    "print(f'b = {b}')     \n",
    "\n",
    "c = np.full((3, 2), 7)  \n",
    "print(f'c = {c}')              \n",
    "                       \n",
    "d = np.random.random((2, 3))  \n",
    "print(f'd = {d}')"
   ]
  },
  {
   "cell_type": "markdown",
   "id": "4592f151",
   "metadata": {},
   "source": [
    "### Broadcasting\n",
    "The term broadcasting describes how NumPy treats arrays with different shapes during arithmetic operations. Subject to certain constraints, the smaller array is “broadcast” across the larger array so that they have compatible shapes. Broadcasting provides a means of vectorizing array operations so that looping occurs in C instead of Python.\n",
    "\n",
    "**NumPy operations are usually done on pairs of arrays on an element-by-element basis.** In the simplest case, the two arrays must have exactly the same shape, as in the following example."
   ]
  },
  {
   "cell_type": "code",
   "execution_count": 2,
   "id": "7a3f1d5c",
   "metadata": {},
   "outputs": [
    {
     "name": "stdout",
     "output_type": "stream",
     "text": [
      "1. The result of a + b is [ 6.  9. 13.]\n",
      "2. The result of b - a is [4. 5. 7.]\n",
      "3. The result of a * b is [ 5. 14. 30.]\n",
      "4. The result of b / a is [5.         3.5        3.33333333]\n"
     ]
    }
   ],
   "source": [
    "a = np.array([1.0, 2.0, 3.0])\n",
    "b = np.array([5.0, 7.0, 10.0])\n",
    "\n",
    "print(f'1. The result of a + b is {a + b}')\n",
    "print(f'2. The result of b - a is {b - a}')\n",
    "print(f'3. The result of a * b is {a * b}')\n",
    "print(f'4. The result of b / a is {b / a}')"
   ]
  },
  {
   "cell_type": "markdown",
   "id": "fe4f6746",
   "metadata": {},
   "source": [
    "**the smaller array is “broadcast” across the larger array so that they have compatible shapes**\n",
    "\n",
    "### Broadcasting Rules\n",
    "\n",
    "When operating on two arrays, NumPy compares their shapes element wise.\n",
    "\n",
    "    1. It starts with the trailing (i.e.rightmost) dimensions and works its way left.\n",
    "    2. Two dimensions are compatible when:\n",
    "        2.1. they are equal, or\n",
    "        2.2. one of them is 1\n",
    "    3. If these conditions are not met, a ValueError: operands could not be broadcast together exception is thrown\n",
    "\n",
    "The **size of the resulting array is the size that is not 1 along each axis** of the inputs."
   ]
  },
  {
   "cell_type": "code",
   "execution_count": 3,
   "id": "01e13012",
   "metadata": {},
   "outputs": [
    {
     "name": "stdout",
     "output_type": "stream",
     "text": [
      "a + b = [[ 1.  2.  3.]\n",
      " [11. 12. 13.]\n",
      " [21. 22. 23.]\n",
      " [31. 32. 33.]]\n",
      "shape A = (4, 3) \n",
      "shape B = (3,)\n",
      "shape A = (4, 3) \n",
      "shape B = (4,)\n"
     ]
    },
    {
     "ename": "ValueError",
     "evalue": "operands could not be broadcast together with shapes (4,3) (4,) ",
     "output_type": "error",
     "traceback": [
      "\u001b[0;31m---------------------------------------------------------------------------\u001b[0m",
      "\u001b[0;31mValueError\u001b[0m                                Traceback (most recent call last)",
      "Input \u001b[0;32mIn [3]\u001b[0m, in \u001b[0;36m<cell line: 10>\u001b[0;34m()\u001b[0m\n\u001b[1;32m      8\u001b[0m b \u001b[38;5;241m=\u001b[39m np\u001b[38;5;241m.\u001b[39marray([\u001b[38;5;241m1.0\u001b[39m, \u001b[38;5;241m2.0\u001b[39m, \u001b[38;5;241m3.0\u001b[39m, \u001b[38;5;241m4.\u001b[39m])\n\u001b[1;32m      9\u001b[0m \u001b[38;5;28mprint\u001b[39m(\u001b[38;5;124mf\u001b[39m\u001b[38;5;124m'\u001b[39m\u001b[38;5;124mshape A = \u001b[39m\u001b[38;5;132;01m{\u001b[39;00ma\u001b[38;5;241m.\u001b[39mshape\u001b[38;5;132;01m}\u001b[39;00m\u001b[38;5;124m \u001b[39m\u001b[38;5;130;01m\\n\u001b[39;00m\u001b[38;5;124mshape B = \u001b[39m\u001b[38;5;132;01m{\u001b[39;00mb\u001b[38;5;241m.\u001b[39mshape\u001b[38;5;132;01m}\u001b[39;00m\u001b[38;5;124m'\u001b[39m)\n\u001b[0;32m---> 10\u001b[0m \u001b[38;5;28mprint\u001b[39m(\u001b[38;5;124mf\u001b[39m\u001b[38;5;124m'\u001b[39m\u001b[38;5;124ma + b = \u001b[39m\u001b[38;5;132;01m{\u001b[39;00ma \u001b[38;5;241m+\u001b[39m b\u001b[38;5;132;01m}\u001b[39;00m\u001b[38;5;124m'\u001b[39m)\n",
      "\u001b[0;31mValueError\u001b[0m: operands could not be broadcast together with shapes (4,3) (4,) "
     ]
    }
   ],
   "source": [
    "a = np.array([[ 0.0,  0.0,  0.0],\n",
    "           [10.0, 10.0, 10.0],\n",
    "           [20.0, 20.0, 20.0],\n",
    "           [30.0, 30.0, 30.0]])\n",
    "b = np.array([1.0, 2.0, 3.0])\n",
    "print(f'a + b = {a + b}')\n",
    "print(f'shape A = {a.shape} \\nshape B = {b.shape}')\n",
    "b = np.array([1.0, 2.0, 3.0, 4.])\n",
    "print(f'shape A = {a.shape} \\nshape B = {b.shape}')\n",
    "print(f'a + b = {a + b}')"
   ]
  },
  {
   "cell_type": "markdown",
   "id": "27f67660",
   "metadata": {},
   "source": [
    "### NumPy Joining Array\n",
    "\n",
    "Joining means putting contents of two or more arrays in a single array.\n",
    "\n",
    "In SQL we join tables based on a key, whereas in NumPy we join arrays by axes.\n",
    "\n",
    "We pass a sequence of arrays that we want to join to the concatenate() function, along with the axis. If axis is not explicitly passed, it is taken as 0."
   ]
  },
  {
   "cell_type": "code",
   "execution_count": 29,
   "id": "7d30115c",
   "metadata": {},
   "outputs": [
    {
     "name": "stdout",
     "output_type": "stream",
     "text": [
      "[1 2 3 4 5 6]\n"
     ]
    }
   ],
   "source": [
    "arr1 = np.array([1, 2, 3])\n",
    "\n",
    "arr2 = np.array([4, 5, 6])\n",
    "\n",
    "arr = np.concatenate((arr1, arr2))\n",
    "\n",
    "print(arr)"
   ]
  },
  {
   "cell_type": "code",
   "execution_count": 30,
   "id": "1711f676",
   "metadata": {},
   "outputs": [
    {
     "name": "stdout",
     "output_type": "stream",
     "text": [
      "[[1 2 5 6]\n",
      " [3 4 7 8]]\n"
     ]
    }
   ],
   "source": [
    "# Joining two 2-D array along with axis 1\n",
    "\n",
    "arr1 = np.array([[1, 2], [3, 4]])\n",
    "\n",
    "arr2 = np.array([[5, 6], [7, 8]])\n",
    "\n",
    "arr = np.concatenate((arr1, arr2), axis=1)\n",
    "\n",
    "print(arr)"
   ]
  },
  {
   "cell_type": "markdown",
   "id": "9fa1ed77",
   "metadata": {},
   "source": [
    "### Joining Arrays Using Stack Functions\n",
    "Stacking is same as concatenation, the only difference is that stacking is done along a new axis.\n",
    "\n",
    "We can concatenate two 1-D arrays along the second axis which would result in putting them one over the other, ie. stacking.\n",
    "\n",
    "We pass a sequence of arrays that we want to join to the stack() method along with the axis. If axis is not explicitly passed it is taken as 0."
   ]
  },
  {
   "cell_type": "code",
   "execution_count": 31,
   "id": "cc60618c",
   "metadata": {},
   "outputs": [
    {
     "name": "stdout",
     "output_type": "stream",
     "text": [
      "[[1 4]\n",
      " [2 5]\n",
      " [3 6]]\n"
     ]
    }
   ],
   "source": [
    "arr1 = np.array([1, 2, 3])\n",
    "\n",
    "arr2 = np.array([4, 5, 6])\n",
    "\n",
    "arr = np.stack((arr1, arr2), axis=1)\n",
    "\n",
    "print(arr)"
   ]
  },
  {
   "cell_type": "markdown",
   "id": "78aa21e4",
   "metadata": {},
   "source": [
    "### Stacking along rows\n",
    "\n",
    "In NumPy, we can use helper function **hstack()** to stack along rows."
   ]
  },
  {
   "cell_type": "code",
   "execution_count": 4,
   "id": "92d60d3e",
   "metadata": {},
   "outputs": [
    {
     "name": "stdout",
     "output_type": "stream",
     "text": [
      "[1 2 3 4 5 6]\n"
     ]
    }
   ],
   "source": [
    "arr1 = np.array([1, 2, 3])\n",
    "\n",
    "arr2 = np.array([4, 5, 6])\n",
    "\n",
    "arr = np.hstack((arr1, arr2))\n",
    "\n",
    "print(arr)"
   ]
  },
  {
   "cell_type": "markdown",
   "id": "2182ccf6",
   "metadata": {},
   "source": [
    "### Stacking along columns\n",
    "\n",
    "In NumPy, we can use helper function **vstack()** to stack along columns."
   ]
  },
  {
   "cell_type": "code",
   "execution_count": 5,
   "id": "25325148",
   "metadata": {},
   "outputs": [
    {
     "name": "stdout",
     "output_type": "stream",
     "text": [
      "[[1 2 3]\n",
      " [4 5 6]]\n"
     ]
    }
   ],
   "source": [
    "arr1 = np.array([1, 2, 3])\n",
    "\n",
    "arr2 = np.array([4, 5, 6])\n",
    "\n",
    "arr = np.vstack((arr1, arr2))\n",
    "\n",
    "print(arr)"
   ]
  },
  {
   "cell_type": "markdown",
   "id": "02822d77",
   "metadata": {},
   "source": [
    "**The effects of hstack and vstack can be achieved with the concatenate function, using axis=1 and axis=0, respectively.**"
   ]
  },
  {
   "cell_type": "markdown",
   "id": "929a8ac1",
   "metadata": {},
   "source": [
    "### Stacking Along Depth (Height)\n",
    "\n",
    "In NumPy, we can use helper function **dstack()** to stack along height, which is the same as depth."
   ]
  },
  {
   "cell_type": "code",
   "execution_count": 6,
   "id": "2388ad4b",
   "metadata": {},
   "outputs": [
    {
     "name": "stdout",
     "output_type": "stream",
     "text": [
      "[[[1 4]\n",
      "  [2 5]\n",
      "  [3 6]]]\n"
     ]
    }
   ],
   "source": [
    "arr1 = np.array([1, 2, 3])\n",
    "\n",
    "arr2 = np.array([4, 5, 6])\n",
    "\n",
    "arr = np.dstack((arr1, arr2))\n",
    "\n",
    "print(arr)"
   ]
  },
  {
   "cell_type": "markdown",
   "id": "3a7c2e19",
   "metadata": {},
   "source": [
    "### NumPy Spliting Array\n",
    "\n",
    "Splitting is reverse operation of Joining.\n",
    "\n",
    "Joining merges multiple arrays into one and Splitting breaks one array into multiple.\n",
    "\n",
    "We use **array_split()** for splitting arrays, we pass it the array we want to split and the number of splits.\n",
    "\n"
   ]
  },
  {
   "cell_type": "code",
   "execution_count": 8,
   "id": "f8d918bf",
   "metadata": {},
   "outputs": [
    {
     "name": "stdout",
     "output_type": "stream",
     "text": [
      "[array([1, 2]), array([3, 4]), array([5, 6])]\n"
     ]
    }
   ],
   "source": [
    "arr = np.array([1, 2, 3, 4, 5, 6])\n",
    "\n",
    "newarr = np.array_split(arr, 3)\n",
    "\n",
    "print(newarr)\n",
    "#The return value is an array containing three arrays."
   ]
  },
  {
   "cell_type": "code",
   "execution_count": 9,
   "id": "e28a3591",
   "metadata": {},
   "outputs": [
    {
     "name": "stdout",
     "output_type": "stream",
     "text": [
      "[array([1, 2]), array([3, 4]), array([5]), array([6])]\n"
     ]
    }
   ],
   "source": [
    "# If the array has less elements than required, it will adjust from the end accordingly.\n",
    "\n",
    "arr = np.array([1, 2, 3, 4, 5, 6])\n",
    "\n",
    "newarr = np.array_split(arr, 4)\n",
    "\n",
    "print(newarr)"
   ]
  },
  {
   "cell_type": "markdown",
   "id": "486133e7",
   "metadata": {},
   "source": [
    "We also have the method **split()** available but it will not adjust the elements when elements are less in source array for splitting like in example above, **array_split()** worked properly but **split()** would fail."
   ]
  },
  {
   "cell_type": "code",
   "execution_count": 10,
   "id": "019c697b",
   "metadata": {},
   "outputs": [
    {
     "name": "stdout",
     "output_type": "stream",
     "text": [
      "[array([[1, 2, 3],\n",
      "       [4, 5, 6]]), array([[ 7,  8,  9],\n",
      "       [10, 11, 12]]), array([[13, 14, 15],\n",
      "       [16, 17, 18]])]\n"
     ]
    }
   ],
   "source": [
    "# Splitting 2-D Array\n",
    "\n",
    "arr = np.array([[1, 2, 3], [4, 5, 6], [7, 8, 9], [10, 11, 12], [13, 14, 15], [16, 17, 18]])\n",
    "\n",
    "newarr = np.array_split(arr, 3)\n",
    "\n",
    "print(newarr)\n"
   ]
  },
  {
   "cell_type": "code",
   "execution_count": 11,
   "id": "8164e791",
   "metadata": {},
   "outputs": [
    {
     "name": "stdout",
     "output_type": "stream",
     "text": [
      "[array([[ 1],\n",
      "       [ 4],\n",
      "       [ 7],\n",
      "       [10],\n",
      "       [13],\n",
      "       [16]]), array([[ 2],\n",
      "       [ 5],\n",
      "       [ 8],\n",
      "       [11],\n",
      "       [14],\n",
      "       [17]]), array([[ 3],\n",
      "       [ 6],\n",
      "       [ 9],\n",
      "       [12],\n",
      "       [15],\n",
      "       [18]])]\n"
     ]
    }
   ],
   "source": [
    "# Splittng 2-D Array Axis Wise\n",
    "arr = np.array([[1, 2, 3], [4, 5, 6], [7, 8, 9], [10, 11, 12], [13, 14, 15], [16, 17, 18]])\n",
    "\n",
    "newarr = np.array_split(arr, 3, axis=1)\n",
    "\n",
    "print(newarr)"
   ]
  },
  {
   "cell_type": "code",
   "execution_count": 12,
   "id": "7a3d690b",
   "metadata": {},
   "outputs": [
    {
     "name": "stdout",
     "output_type": "stream",
     "text": [
      "[array([[ 1],\n",
      "       [ 4],\n",
      "       [ 7],\n",
      "       [10],\n",
      "       [13],\n",
      "       [16]]), array([[ 2],\n",
      "       [ 5],\n",
      "       [ 8],\n",
      "       [11],\n",
      "       [14],\n",
      "       [17]]), array([[ 3],\n",
      "       [ 6],\n",
      "       [ 9],\n",
      "       [12],\n",
      "       [15],\n",
      "       [18]])]\n"
     ]
    }
   ],
   "source": [
    "# we can achieve the same thing using hsplit() function\n",
    "arr = np.array([[1, 2, 3], [4, 5, 6], [7, 8, 9], [10, 11, 12], [13, 14, 15], [16, 17, 18]])\n",
    "\n",
    "newarr = np.hsplit(arr, 3)\n",
    "\n",
    "print(newarr)"
   ]
  },
  {
   "cell_type": "markdown",
   "id": "1c48ea2a",
   "metadata": {},
   "source": [
    "### NumPy Array Searching\n",
    "\n",
    "search an array for a certain value, and return the indexes that get a match using **where()** method."
   ]
  },
  {
   "cell_type": "code",
   "execution_count": 13,
   "id": "8abccbba",
   "metadata": {},
   "outputs": [
    {
     "name": "stdout",
     "output_type": "stream",
     "text": [
      "(array([3, 5, 6]),)\n"
     ]
    }
   ],
   "source": [
    "arr = np.array([1, 2, 3, 4, 5, 4, 4])\n",
    "\n",
    "x = np.where(arr == 4)\n",
    "\n",
    "print(x)"
   ]
  },
  {
   "cell_type": "code",
   "execution_count": 14,
   "id": "bb22ab26",
   "metadata": {},
   "outputs": [
    {
     "name": "stdout",
     "output_type": "stream",
     "text": [
      "(array([1, 3, 5, 7]),)\n"
     ]
    }
   ],
   "source": [
    "arr = np.array([1, 2, 3, 4, 5, 6, 7, 8])\n",
    "\n",
    "x = np.where(arr%2 == 0)\n",
    "\n",
    "print(x)"
   ]
  },
  {
   "cell_type": "markdown",
   "id": "19f79e0b",
   "metadata": {},
   "source": [
    "### Search Sorted \n",
    "\n",
    "**searchsorted()** which performs a binary search in the array, and returns the index where the specified value would be inserted to maintain the search order.\n",
    "\n",
    "**The searchsorted() method is assumed to be used on sorted arrays.**"
   ]
  },
  {
   "cell_type": "code",
   "execution_count": 15,
   "id": "cee36f65",
   "metadata": {},
   "outputs": [
    {
     "name": "stdout",
     "output_type": "stream",
     "text": [
      "1\n"
     ]
    }
   ],
   "source": [
    "arr = np.array([6, 7, 8, 9])\n",
    "\n",
    "x = np.searchsorted(arr, 7)\n",
    "\n",
    "print(x)"
   ]
  },
  {
   "cell_type": "markdown",
   "id": "c4a95109",
   "metadata": {},
   "source": [
    "### Search From the Right Side\n",
    "By default the left most index is returned, but we can give side='right' to return the right most index instead."
   ]
  },
  {
   "cell_type": "code",
   "execution_count": 16,
   "id": "6273d01a",
   "metadata": {},
   "outputs": [
    {
     "name": "stdout",
     "output_type": "stream",
     "text": [
      "2\n"
     ]
    }
   ],
   "source": [
    "arr = np.array([6, 7, 8, 9])\n",
    "\n",
    "x = np.searchsorted(arr, 7, side='right')\n",
    "\n",
    "print(x)"
   ]
  },
  {
   "cell_type": "markdown",
   "id": "4e935b01",
   "metadata": {},
   "source": [
    "### Multiple Values\n",
    "To search for more than one value, use an array with the specified values."
   ]
  },
  {
   "cell_type": "code",
   "execution_count": 17,
   "id": "ba86252e",
   "metadata": {},
   "outputs": [
    {
     "name": "stdout",
     "output_type": "stream",
     "text": [
      "[1 2 3]\n"
     ]
    }
   ],
   "source": [
    "arr = np.array([1, 3, 5, 7])\n",
    "\n",
    "x = np.searchsorted(arr, [2, 4, 6])\n",
    "\n",
    "print(x)"
   ]
  },
  {
   "cell_type": "markdown",
   "id": "55b946ea",
   "metadata": {},
   "source": [
    "The return value is an array: [1 2 3] containing the three indexes where 2, 4, 6 would be inserted in the original array to maintain the order."
   ]
  },
  {
   "cell_type": "markdown",
   "id": "27db7af9",
   "metadata": {},
   "source": [
    "### NumPy Sorting Arrays\n",
    "\n",
    "Sorting means putting elements in an ordered sequence.  The most common orders are in numerical or lexicographical orders and in Numpy.\n",
    "\n",
    "Ordered sequence is any sequence that has an order corresponding to elements, like numeric or alphabetical, ascending or descending.\n",
    "\n",
    "**This method returns a copy of the array, leaving the original array unchanged.**"
   ]
  },
  {
   "cell_type": "code",
   "execution_count": 18,
   "id": "31598fb5",
   "metadata": {},
   "outputs": [
    {
     "name": "stdout",
     "output_type": "stream",
     "text": [
      "[0 1 2 3]\n"
     ]
    }
   ],
   "source": [
    "arr = np.array([3, 2, 0, 1])\n",
    "\n",
    "print(np.sort(arr))"
   ]
  },
  {
   "cell_type": "code",
   "execution_count": 19,
   "id": "edcdcde0",
   "metadata": {},
   "outputs": [
    {
     "name": "stdout",
     "output_type": "stream",
     "text": [
      "['apple' 'banana' 'cherry']\n"
     ]
    }
   ],
   "source": [
    "arr = np.array(['banana', 'cherry', 'apple'])\n",
    "\n",
    "print(np.sort(arr))"
   ]
  },
  {
   "cell_type": "code",
   "execution_count": 20,
   "id": "d21be2f5",
   "metadata": {},
   "outputs": [
    {
     "name": "stdout",
     "output_type": "stream",
     "text": [
      "[False  True  True]\n"
     ]
    }
   ],
   "source": [
    "arr = np.array([True, False, True])\n",
    "\n",
    "print(np.sort(arr))"
   ]
  },
  {
   "cell_type": "code",
   "execution_count": 21,
   "id": "0ffbbcf1",
   "metadata": {},
   "outputs": [
    {
     "name": "stdout",
     "output_type": "stream",
     "text": [
      "[[2 3 4]\n",
      " [0 1 5]]\n"
     ]
    }
   ],
   "source": [
    "arr = np.array([[3, 2, 4], [5, 0, 1]])\n",
    "\n",
    "print(np.sort(arr))"
   ]
  },
  {
   "cell_type": "code",
   "execution_count": 32,
   "id": "4a7f32c8",
   "metadata": {},
   "outputs": [
    {
     "name": "stdout",
     "output_type": "stream",
     "text": [
      "1. a = [[7 1 4]\n",
      " [8 6 5]\n",
      " [1 2 3]]\n",
      "\n",
      "2. b = [[1 4 7]\n",
      " [5 6 8]\n",
      " [1 2 3]]\n",
      "\n",
      "3. c = [1 1 2 3 4 5 6 7 8]\n",
      "\n",
      "4. d = [[1 1 3]\n",
      " [7 2 4]\n",
      " [8 6 5]]\n",
      "\n",
      "5. e = [[1 4 7]\n",
      " [5 6 8]\n",
      " [1 2 3]]\n",
      "\n",
      "6. Sorted indices of a = [[1 2 0]\n",
      " [2 1 0]\n",
      " [0 1 2]]\n"
     ]
    }
   ],
   "source": [
    "a = np.array([[7, 1, 4],[8, 6, 5],[1, 2, 3]])\n",
    "print(f'1. a = {a}\\n')\n",
    "b = np.sort(a) # selects the last and innermost dimension, which is the rows in this example\n",
    "print(f'2. b = {b}\\n')\n",
    "c = np.sort(a, axis=None) #None flattens the array and performs a global sort\n",
    "print(f'3. c = {c}\\n')\n",
    "\n",
    "d = np.sort(a, axis=0) # you can specify which axis you want to sort - axis 0 is row\n",
    "print(f'4. d = {d}\\n')\n",
    "e = np.sort(a, axis=1) # you can specify which axis you want to sort - axis 1 is column\n",
    "print(f'5. e = {e}\\n')\n",
    "\n",
    "# Sort array indices with argsort\n",
    "f = np.argsort(a)\n",
    "print(f'6. Sorted indices of a = {f}')"
   ]
  },
  {
   "cell_type": "markdown",
   "id": "51b26c6b",
   "metadata": {},
   "source": [
    "### NumPy Array Filter / Mask\n",
    "\n",
    "Getting some elements out of an existing array and creating a new array out of them is called filtering.\n",
    "\n",
    "In NumPy, you filter an array using a boolean index list.\n",
    "\n",
    "**A boolean index list is a list of booleans corresponding to indexes in the array.**\n",
    "\n",
    "\n",
    "Index-based selection solves several problems; however, there are situations you may want to filter your data based on more complicated criteria.\n",
    "The concept of a **mask** in Numpy will help you addressing those fancier selections. A mask is an array with the same shape as your data, but instead of holding your values, it will hold boolean values. After creating a mask, you can use it to perform selections into your data. Using a mask will return all of the elements where the Boolean array has a True value."
   ]
  },
  {
   "cell_type": "code",
   "execution_count": 33,
   "id": "e37ba842",
   "metadata": {},
   "outputs": [
    {
     "name": "stdout",
     "output_type": "stream",
     "text": [
      "[41 43]\n"
     ]
    }
   ],
   "source": [
    "arr = np.array([41, 42, 43, 44])\n",
    "\n",
    "x = [True, False, True, False]\n",
    "\n",
    "newarr = arr[x]\n",
    "\n",
    "print(newarr)"
   ]
  },
  {
   "cell_type": "code",
   "execution_count": 34,
   "id": "a7c6df9f",
   "metadata": {},
   "outputs": [
    {
     "name": "stdout",
     "output_type": "stream",
     "text": [
      "[False, False, True, True]\n",
      "[43 44]\n"
     ]
    }
   ],
   "source": [
    "#Create a filter array that will return only values higher than 42\n",
    "arr = np.array([41, 42, 43, 44])\n",
    "\n",
    "# Create an empty list\n",
    "filter_arr = []\n",
    "\n",
    "# go through each element in arr\n",
    "for element in arr:\n",
    "  # if the element is higher than 42, set the value to True, otherwise False:\n",
    "  if element > 42:\n",
    "    filter_arr.append(True)\n",
    "  else:\n",
    "    filter_arr.append(False)\n",
    "\n",
    "newarr = arr[filter_arr]\n",
    "\n",
    "print(filter_arr)\n",
    "print(newarr)"
   ]
  },
  {
   "cell_type": "code",
   "execution_count": 35,
   "id": "bf85e21d",
   "metadata": {},
   "outputs": [
    {
     "name": "stdout",
     "output_type": "stream",
     "text": [
      "[False False  True  True]\n",
      "[43 44]\n"
     ]
    }
   ],
   "source": [
    "#Creating filter Directly from Array\n",
    "\n",
    "arr = np.array([41, 42, 43, 44])\n",
    "\n",
    "filter_arr = arr > 42\n",
    "\n",
    "newarr = arr[filter_arr]\n",
    "\n",
    "print(filter_arr)\n",
    "print(newarr)"
   ]
  },
  {
   "cell_type": "markdown",
   "id": "1cada12a",
   "metadata": {},
   "source": [
    "### Transpose\n",
    "\n",
    "Other manipulations, while not quite as common as indexing or filtering, can also be very handy depending on the situation you’re in.\n",
    "\n",
    "When you calculate the transpose of an array, every element's row and column indices are swapped. Item [0, 3], for example, becomes item [3, 0].\n",
    "\n",
    "We can use **arr.T or arr.transpose()** to transpose any array"
   ]
  },
  {
   "cell_type": "code",
   "execution_count": 40,
   "id": "280d4c4f",
   "metadata": {},
   "outputs": [
    {
     "name": "stdout",
     "output_type": "stream",
     "text": [
      "1. a = [[1 2]\n",
      " [3 4]\n",
      " [5 6]]\n",
      "\n",
      "Shape of the real array : (3, 2)\n",
      "\n",
      "2. a.T = [[1 3 5]\n",
      " [2 4 6]]\n",
      "\n",
      "Shape of the transposed array : (2, 3)\n",
      "\n",
      "3. a.Transpose = [[1 3 5]\n",
      " [2 4 6]]\n",
      "\n"
     ]
    }
   ],
   "source": [
    "a = np.array([[1, 2],[3, 4],[5, 6]])\n",
    "print(f'1. a = {a}\\n')\n",
    "print(f'Shape of the real array : {a.shape}\\n')\n",
    "print(f'2. a.T = {a.T}\\n') \n",
    "print(f'Shape of the transposed array : {a.T.shape}\\n')\n",
    "print(f'3. a.Transpose = {a.transpose()}\\n')"
   ]
  },
  {
   "cell_type": "markdown",
   "id": "1440a6ae",
   "metadata": {},
   "source": [
    "### Concatenation\n",
    "NumPy's concatenate function can be used to concatenate two arrays either row-wise or column-wise. Concatenate function can take two or more arrays of the same shape and by default it concatenates row-wise i.e. axis=0."
   ]
  },
  {
   "cell_type": "code",
   "execution_count": 41,
   "id": "1001b2c1",
   "metadata": {},
   "outputs": [
    {
     "name": "stdout",
     "output_type": "stream",
     "text": [
      "1. First array a = \n",
      " [[4 8]\n",
      " [6 1]]\n",
      "\n",
      "2. Second array b = \n",
      " [[3 5]\n",
      " [7 2]]\n",
      "\n",
      "3. concatenate(a, b) = \n",
      "[[4 8]\n",
      " [6 1]\n",
      " [3 5]\n",
      " [7 2]]\n",
      "\n",
      "4. concatenate((a, b), axis=None) = [4 8 6 1 3 5 7 2]\n",
      "\n",
      "5. concatenate((a, b), axis=1) = \n",
      " [[4 8 3 5]\n",
      " [6 1 7 2]]\n",
      "\n"
     ]
    }
   ],
   "source": [
    "a = np.array([[4, 8],[6, 1]])\n",
    "print(f'1. First array a = \\n {a}\\n')\n",
    "b = np.array([[3, 5],[7, 2]])\n",
    "print(f'2. Second array b = \\n {b}\\n')\n",
    "c = np.concatenate((a, b)) #default axis=0\n",
    "print(f'3. concatenate(a, b) = \\n{c}\\n')\n",
    "d = np.concatenate((a, b), axis=None)\n",
    "print(f'4. concatenate((a, b), axis=None) = {d}\\n')\n",
    "e = np.concatenate((a, b), axis=1)\n",
    "print(f'5. concatenate((a, b), axis=1) = \\n {e}\\n')"
   ]
  },
  {
   "cell_type": "markdown",
   "id": "cf1b2398",
   "metadata": {},
   "source": [
    "### Appending\n",
    "Now let's see how to append values at the end of a NumPy array. Adding values at the end of the array is sometimes necessary, mainly when the data is not fixed and is prone to change. We can use the append function to achieve that. This function can help us append single and multiple values at the end of the array."
   ]
  },
  {
   "cell_type": "code",
   "execution_count": 42,
   "id": "c0cd627e",
   "metadata": {},
   "outputs": [
    {
     "name": "stdout",
     "output_type": "stream",
     "text": [
      "1. a = [1 2 3]\n",
      "2. append(a, [4]) = [1 2 3 4]\n",
      "3. c = [4 5 6]\n",
      "4. append(a, c) = [1 2 3 4 5 6]\n"
     ]
    }
   ],
   "source": [
    "a = np.array([1, 2, 3]) #1D array\n",
    "print(f'1. a = {a}')\n",
    " \n",
    "b = np.append(a, [4])\n",
    "print(f'2. append(a, [4]) = {b}')\n",
    "\n",
    "c = np.array([4, 5, 6])\n",
    "print(f'3. c = {c}')\n",
    "\n",
    "d = np.append(a, c)\n",
    "print(f'4. append(a, c) = {d}')"
   ]
  },
  {
   "cell_type": "markdown",
   "id": "8fba3750",
   "metadata": {},
   "source": [
    "Appending values at the end of the n-dimensional array can be also done through the axis. It is important that the dimensions of both the array matches otherwise it will give an error."
   ]
  },
  {
   "cell_type": "code",
   "execution_count": 43,
   "id": "783e998a",
   "metadata": {},
   "outputs": [
    {
     "name": "stdout",
     "output_type": "stream",
     "text": [
      "a = \n",
      " [[ 1  2  3  4  5  6]\n",
      " [ 7  8  9 10 11 12]]\n",
      "b = \n",
      " [[13 14 15 16 17 18]]\n",
      "np.append(a, b, axis = 0) \n",
      " [[ 1  2  3  4  5  6]\n",
      " [ 7  8  9 10 11 12]\n",
      " [13 14 15 16 17 18]]\n",
      "c = [[ 7]\n",
      " [14]]\n",
      "np.append(a, c, axis = 1) \n",
      " [[ 1  2  3  4  5  6  7]\n",
      " [ 7  8  9 10 11 12 14]]\n"
     ]
    }
   ],
   "source": [
    "a = np.arange(1, 13).reshape(2, 6)\n",
    "print(f'a = \\n {a}')\n",
    "  \n",
    "b = np.arange(13, 19).reshape(1, 6)\n",
    "print(f'b = \\n {b}')\n",
    "\n",
    "print(f'np.append(a, b, axis = 0) \\n {np.append(a, b, axis = 0)}')\n",
    "  \n",
    "c = np.array([7, 14]).reshape(2, 1)\n",
    "print(f'c = {c}')\n",
    "\n",
    "print(f'np.append(a, c, axis = 1) \\n {np.append(a, c, axis = 1)}')"
   ]
  },
  {
   "cell_type": "markdown",
   "id": "45b3d488",
   "metadata": {},
   "source": [
    "### Union\n",
    "To find union of two 1-dimensional arrays we can use function union1d() of Numpy. It returns a unique and sorted array with values that are in either of the two input arrays. If array passed as arguments to function union1d is n-dimensional, then they are flattened to 1-dimension and the outcome is computed returning sorted array with values that are in either of the two input arrays"
   ]
  },
  {
   "cell_type": "code",
   "execution_count": 44,
   "id": "c54f4071",
   "metadata": {},
   "outputs": [
    {
     "name": "stdout",
     "output_type": "stream",
     "text": [
      "a = [10 20 30 40]\n",
      "b = [20 40 60 80]\n",
      "union(a, b) = [10 20 30 40 60 80]\n",
      "c = \n",
      " [[1 2 3]\n",
      " [4 5 6]]\n",
      "d = [0 5 7]\n",
      "union(c, d) = [0 1 2 3 4 5 6 7]\n",
      "e = \n",
      " [[ 1  2  3]\n",
      " [ 4  5  6]\n",
      " [ 7  8  9]\n",
      " [10 11 12]]\n",
      "union(c, e) = [ 1  2  3  4  5  6  7  8  9 10 11 12]\n"
     ]
    }
   ],
   "source": [
    "a = np.array([10, 20, 30, 40])\n",
    "print(f'a = {a}')  \n",
    "b = np.array([20, 40, 60, 80])\n",
    "print(f'b = {b}')\n",
    "print(f'union(a, b) = {np.union1d(a, b)}')\n",
    "\n",
    "c = np.array([[1, 2, 3], [4, 5, 6]])\n",
    "print(f'c = \\n {c}')\n",
    "d = np.array([0, 5, 7])\n",
    "print(f'd = {d}')\n",
    "print(f'union(c, d) = {np.union1d(c, d)}')\n",
    "\n",
    "e = np.array([[1, 2, 3], [4, 5, 6],[7, 8, 9], [10, 11, 12]])\n",
    "print(f'e = \\n {e}')\n",
    "print(f'union(c, e) = {np.union1d(c, e)}')"
   ]
  },
  {
   "cell_type": "markdown",
   "id": "6450b393",
   "metadata": {},
   "source": [
    "### Aggregating\n",
    "Numpy provides many aggregate functions or statistical functions to work with a single-dimensional or multi-dimensional arrays. The numpy aggregate functions include: sum, min, max, mean, average, product, median, standard deviation, variance, argmin, argmax, percentile, cumprod, cumsum, and corrcoef. Below are some examples of their use."
   ]
  },
  {
   "cell_type": "code",
   "execution_count": 45,
   "id": "8ef73c62",
   "metadata": {},
   "outputs": [
    {
     "name": "stdout",
     "output_type": "stream",
     "text": [
      "1. a = \n",
      " [[10 30 50]\n",
      " [40 20 90]]\n",
      "2. a.min() = 10\n",
      "3. a.min(axis=0) = [10 20 50]\n",
      "4. a.min(axis=1) = [10 20]\n",
      "5. a.argmin(axis=1) = [0 1]\n",
      "6. a.max() = 90\n",
      "7. a.max() = [40 30 90]\n",
      "8. a.max() = [50 90]\n",
      "9. a.argmax(axis=0) = [1 0 1]\n"
     ]
    }
   ],
   "source": [
    "a = np.array([[10, 30, 50], [40, 20, 90]])\n",
    "print(f'1. a = \\n {a}')\n",
    "\n",
    "print(f'2. a.min() = {a.min()}') #gets the min. with no axis, array is flatten before processing\n",
    "print(f'3. a.min(axis=0) = {a.min(axis=0)}')\n",
    "print(f'4. a.min(axis=1) = {a.min(axis=1)}')\n",
    "\n",
    "print(f'5. a.argmin(axis=1) = {a.argmin(axis=1)}') #we can also retrieve the index of the element\n",
    "\n",
    "print(f'6. a.max() = {a.max()}') #gets the max. with no axis, array is flatten before processing\n",
    "print(f'7. a.max() = {a.max(axis=0)}')\n",
    "print(f'8. a.max() = {a.max(axis=1)}')\n",
    "\n",
    "print(f'9. a.argmax(axis=0) = {a.argmax(axis=0)}') #we can also retrieve the index of the element"
   ]
  },
  {
   "cell_type": "code",
   "execution_count": null,
   "id": "328b1cc7",
   "metadata": {},
   "outputs": [],
   "source": []
  }
 ],
 "metadata": {
  "kernelspec": {
   "display_name": "Python 3 (ipykernel)",
   "language": "python",
   "name": "python3"
  },
  "language_info": {
   "codemirror_mode": {
    "name": "ipython",
    "version": 3
   },
   "file_extension": ".py",
   "mimetype": "text/x-python",
   "name": "python",
   "nbconvert_exporter": "python",
   "pygments_lexer": "ipython3",
   "version": "3.9.12"
  }
 },
 "nbformat": 4,
 "nbformat_minor": 5
}
